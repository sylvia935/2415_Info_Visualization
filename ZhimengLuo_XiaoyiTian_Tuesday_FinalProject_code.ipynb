{
 "cells": [
  {
   "cell_type": "markdown",
   "metadata": {},
   "source": [
    "# INFSCI 2415 (Tuesday) Final Project -- Zhimeng Luo, Xiaoyi Tian\n",
    "\n",
    "## Team contact\n",
    "    Zhimeng Luo (zhl123@pitt.edu)\n",
    "    Xiaoyi Tian (xit33@pitt.edu)"
   ]
  },
  {
   "cell_type": "markdown",
   "metadata": {},
   "source": [
    "## Introduction"
   ]
  },
  {
   "cell_type": "markdown",
   "metadata": {},
   "source": [
    "51Job is one of the largest job-seeking platform in China. Ten-thousands opening positions from every cities in China were posted everyday. In this notebook, I will be analyzing '51 Job' dataset. The dataset was retrieved from Kaggle.com. link: https://www.kaggle.com/carrychang/job-information-for-it/metadata"
   ]
  },
  {
   "cell_type": "markdown",
   "metadata": {
    "ExecuteTime": {
     "end_time": "2019-12-08T21:16:51.178997Z",
     "start_time": "2019-12-08T21:16:50.910004Z"
    }
   },
   "source": [
    "## 1. Data processing"
   ]
  },
  {
   "cell_type": "code",
   "execution_count": 1,
   "metadata": {
    "ExecuteTime": {
     "end_time": "2019-12-14T02:45:33.832703Z",
     "start_time": "2019-12-14T02:45:28.584694Z"
    }
   },
   "outputs": [],
   "source": [
    "import re\n",
    "import pandas as pd\n",
    "import numpy as np\n",
    "import statistics \n",
    "from collections import defaultdict\n",
    "\n",
    "# matplotlib for plotting\n",
    "import matplotlib.pyplot as plt\n",
    "import seaborn as sns\n",
    "\n",
    "%matplotlib inline"
   ]
  },
  {
   "cell_type": "code",
   "execution_count": 2,
   "metadata": {
    "ExecuteTime": {
     "end_time": "2019-12-14T02:45:49.834063Z",
     "start_time": "2019-12-14T02:45:33.834698Z"
    }
   },
   "outputs": [],
   "source": [
    "# read the data set using pandas .read_excel() method\n",
    "df_51job = pd.read_excel('51job.xlsx')\n",
    "# print the top 5 row from the dataframe\n",
    "# df_51job.head()"
   ]
  },
  {
   "cell_type": "markdown",
   "metadata": {},
   "source": [
    "### Delete error rows"
   ]
  },
  {
   "cell_type": "code",
   "execution_count": 3,
   "metadata": {
    "ExecuteTime": {
     "end_time": "2019-12-14T02:46:17.599468Z",
     "start_time": "2019-12-14T02:45:49.836058Z"
    }
   },
   "outputs": [],
   "source": [
    "# delete error rows\n",
    "for i, row in df_51job.iterrows():\n",
    "    # find error rows\n",
    "    if row['people_need'][-2:] == \"发布\":\n",
    "        df_51job.drop(i, inplace=True)\n",
    "    elif \"省\" in row['city']:\n",
    "        df_51job.drop(i, inplace=True)\n",
    "    elif not isinstance(row['salary'], str):\n",
    "        df_51job.drop(i, inplace=True)"
   ]
  },
  {
   "cell_type": "markdown",
   "metadata": {},
   "source": [
    "### Normalize number of people need and city names and salary"
   ]
  },
  {
   "cell_type": "code",
   "execution_count": 4,
   "metadata": {
    "ExecuteTime": {
     "end_time": "2019-12-14T02:46:28.357009Z",
     "start_time": "2019-12-14T02:46:17.608437Z"
    }
   },
   "outputs": [],
   "source": [
    "for i, row in df_51job.iterrows():\n",
    "    # for city names\n",
    "    df_51job.at[i, \"city\"] = row[\"city\"].split(\"-\")[0]\n",
    "    # for people need\n",
    "    num_people_need = row[\"people_need\"]\n",
    "    if num_people_need == \"招若干人\":\n",
    "        df_51job.at[i, \"people_need\"] = np.nan\n",
    "    else:\n",
    "        df_51job.at[i, \"people_need\"] = int(num_people_need[1:-1])\n",
    "    # for salary\n",
    "    [_, number, unit] = re.split(r\"([\\d.-]+)\", row[\"salary\"])\n",
    "    number_list = number.split(\"-\")\n",
    "    number_average = sum([float(i) for i in number_list])/len(number_list)\n",
    "    unit_list = unit.split(\"/\")\n",
    "    if unit_list[0][0] == \"元\":\n",
    "        salary = number_average\n",
    "    elif unit_list[0][0] == \"千\":\n",
    "        salary = number_average*1000\n",
    "    elif unit_list[0][0] == \"万\":\n",
    "        salary = number_average*10000\n",
    "\n",
    "    if unit_list[1] == \"小时\":\n",
    "        salary = salary*8*5*4*12\n",
    "    elif unit_list[1] == \"天\":\n",
    "        salary = salary*5*4*12\n",
    "    elif unit_list[1] == \"月\":\n",
    "        salary = salary*12\n",
    "    elif unit_list[1] == \"年\":\n",
    "        pass\n",
    "    df_51job.at[i, \"salary\"] = salary\n",
    "df_51job = df_51job.astype({\"salary\": float})"
   ]
  },
  {
   "cell_type": "code",
   "execution_count": 5,
   "metadata": {
    "ExecuteTime": {
     "end_time": "2019-12-14T02:46:28.407765Z",
     "start_time": "2019-12-14T02:46:28.360860Z"
    }
   },
   "outputs": [
    {
     "name": "stdout",
     "output_type": "stream",
     "text": [
      "Median of people-needed is : 2.0 \n"
     ]
    }
   ],
   "source": [
    "df_people_need = df_51job['people_need'].dropna()\n",
    "people_need_median = statistics.median(df_people_need)\n",
    "print(\"Median of people-needed is : % s \" % (people_need_median))\n",
    "# fill nan with median value\n",
    "df_51job['people_need'].fillna(people_need_median, inplace=True)"
   ]
  },
  {
   "cell_type": "markdown",
   "metadata": {},
   "source": [
    "### Unique job list, city list, and degree list"
   ]
  },
  {
   "cell_type": "code",
   "execution_count": 6,
   "metadata": {
    "ExecuteTime": {
     "end_time": "2019-12-14T02:46:28.422695Z",
     "start_time": "2019-12-14T02:46:28.409728Z"
    }
   },
   "outputs": [
    {
     "name": "stdout",
     "output_type": "stream",
     "text": [
      "57\n"
     ]
    }
   ],
   "source": [
    "#unique job area list\n",
    "job_area_list = df_51job['company_area'].unique().tolist()\n",
    "print(len(job_area_list))"
   ]
  },
  {
   "cell_type": "code",
   "execution_count": 7,
   "metadata": {
    "ExecuteTime": {
     "end_time": "2019-12-14T02:46:28.438654Z",
     "start_time": "2019-12-14T02:46:28.424689Z"
    }
   },
   "outputs": [
    {
     "name": "stdout",
     "output_type": "stream",
     "text": [
      "288\n"
     ]
    }
   ],
   "source": [
    "# unique city list\n",
    "city_list = df_51job['city'].unique().tolist()\n",
    "print(len(city_list))"
   ]
  },
  {
   "cell_type": "code",
   "execution_count": 8,
   "metadata": {
    "ExecuteTime": {
     "end_time": "2019-12-14T02:46:28.450621Z",
     "start_time": "2019-12-14T02:46:28.440646Z"
    }
   },
   "outputs": [
    {
     "name": "stdout",
     "output_type": "stream",
     "text": [
      "['本科', '大专', '中专', '初中及以下', '高中', '中技', '硕士', '博士']\n"
     ]
    }
   ],
   "source": [
    "# degree list\n",
    "degree_list = df_51job['edu'].unique().tolist()\n",
    "print(degree_list)"
   ]
  },
  {
   "cell_type": "code",
   "execution_count": 9,
   "metadata": {
    "ExecuteTime": {
     "end_time": "2019-12-14T02:46:28.464614Z",
     "start_time": "2019-12-14T02:46:28.452614Z"
    }
   },
   "outputs": [
    {
     "name": "stdout",
     "output_type": "stream",
     "text": [
      "['3-4年经验', '1年经验', '2年经验', '无工作经验', '5-7年经验', '10年以上经验', '8-9年经验']\n"
     ]
    }
   ],
   "source": [
    "# working experience\n",
    "workexp_list = df_51job['workingexp'].unique().tolist()\n",
    "print(workexp_list)"
   ]
  },
  {
   "cell_type": "markdown",
   "metadata": {},
   "source": [
    "### mean salary of different working experience by city"
   ]
  },
  {
   "cell_type": "markdown",
   "metadata": {},
   "source": [
    "#### Beijing"
   ]
  },
  {
   "cell_type": "code",
   "execution_count": 10,
   "metadata": {
    "ExecuteTime": {
     "end_time": "2019-12-14T02:46:28.483532Z",
     "start_time": "2019-12-14T02:46:28.466581Z"
    }
   },
   "outputs": [],
   "source": [
    "df_beijing = df_51job[df_51job['city']==\"北京\"][[\"edu\", \"salary\", \"workingexp\"]]"
   ]
  },
  {
   "cell_type": "code",
   "execution_count": 11,
   "metadata": {
    "ExecuteTime": {
     "end_time": "2019-12-14T02:46:28.499492Z",
     "start_time": "2019-12-14T02:46:28.485526Z"
    }
   },
   "outputs": [
    {
     "data": {
      "text/plain": [
       "workingexp\n",
       "10年以上经验    270000.0\n",
       "1年经验       108000.0\n",
       "2年经验       126000.0\n",
       "3-4年经验     180000.0\n",
       "5-7年经验     240000.0\n",
       "8-9年经验     300000.0\n",
       "无工作经验      108000.0\n",
       "Name: salary, dtype: float64"
      ]
     },
     "execution_count": 11,
     "metadata": {},
     "output_type": "execute_result"
    }
   ],
   "source": [
    "# mean salary of bachelor degree requirement in Beijing\n",
    "df_beijing_1 = df_beijing[df_beijing[\"edu\"]==\"本科\"]\n",
    "df_beijing_1.groupby(\"workingexp\")[\"salary\"].median()"
   ]
  },
  {
   "cell_type": "code",
   "execution_count": 12,
   "metadata": {
    "ExecuteTime": {
     "end_time": "2019-12-14T02:46:28.510461Z",
     "start_time": "2019-12-14T02:46:28.501484Z"
    }
   },
   "outputs": [
    {
     "data": {
      "text/plain": [
       "workingexp\n",
       "10年以上经验    144000.0\n",
       "1年经验       270000.0\n",
       "2年经验       150000.0\n",
       "3-4年经验     210000.0\n",
       "5-7年经验     345000.0\n",
       "无工作经验      162000.0\n",
       "Name: salary, dtype: float64"
      ]
     },
     "execution_count": 12,
     "metadata": {},
     "output_type": "execute_result"
    }
   ],
   "source": [
    "# mean salary of master degree requirement in Beijing\n",
    "df_beijing_2 = df_beijing[df_beijing[\"edu\"]==\"硕士\"]\n",
    "df_beijing_2.groupby(\"workingexp\")[\"salary\"].median()"
   ]
  },
  {
   "cell_type": "markdown",
   "metadata": {
    "ExecuteTime": {
     "end_time": "2019-12-09T02:55:18.994597Z",
     "start_time": "2019-12-09T02:55:18.953354Z"
    }
   },
   "source": [
    "#### Shanghai"
   ]
  },
  {
   "cell_type": "code",
   "execution_count": 13,
   "metadata": {
    "ExecuteTime": {
     "end_time": "2019-12-14T02:46:28.533491Z",
     "start_time": "2019-12-14T02:46:28.514449Z"
    }
   },
   "outputs": [],
   "source": [
    "df_shanghai = df_51job[df_51job['city']==\"上海\"][[\"edu\", \"salary\", \"workingexp\"]]"
   ]
  },
  {
   "cell_type": "code",
   "execution_count": 14,
   "metadata": {
    "ExecuteTime": {
     "end_time": "2019-12-14T02:46:28.548359Z",
     "start_time": "2019-12-14T02:46:28.536391Z"
    }
   },
   "outputs": [
    {
     "data": {
      "text/plain": [
       "workingexp\n",
       "10年以上经验    390000.0\n",
       "1年经验       108000.0\n",
       "2年经验       138000.0\n",
       "3-4年经验     180000.0\n",
       "5-7年经验     240000.0\n",
       "8-9年经验     300000.0\n",
       "无工作经验      108000.0\n",
       "Name: salary, dtype: float64"
      ]
     },
     "execution_count": 14,
     "metadata": {},
     "output_type": "execute_result"
    }
   ],
   "source": [
    "# mean salary of bachelor degree requirement\n",
    "df_shanghai_1 = df_shanghai[df_shanghai[\"edu\"]==\"本科\"]\n",
    "df_shanghai_1.groupby(\"workingexp\")[\"salary\"].median()"
   ]
  },
  {
   "cell_type": "code",
   "execution_count": 15,
   "metadata": {
    "ExecuteTime": {
     "end_time": "2019-12-14T02:46:28.562322Z",
     "start_time": "2019-12-14T02:46:28.551351Z"
    }
   },
   "outputs": [
    {
     "data": {
      "text/plain": [
       "workingexp\n",
       "10年以上经验    495000.0\n",
       "1年经验       150000.0\n",
       "2年经验       210000.0\n",
       "3-4年经验     275000.0\n",
       "5-7年经验     241500.0\n",
       "8-9年经验     650000.0\n",
       "无工作经验      108000.0\n",
       "Name: salary, dtype: float64"
      ]
     },
     "execution_count": 15,
     "metadata": {},
     "output_type": "execute_result"
    }
   ],
   "source": [
    "# mean salary of master degree requirement\n",
    "df_shanghai_2 = df_shanghai[df_shanghai[\"edu\"]==\"硕士\"]\n",
    "df_shanghai_2.groupby(\"workingexp\")[\"salary\"].median()"
   ]
  },
  {
   "cell_type": "markdown",
   "metadata": {},
   "source": [
    "#### Guangzhou"
   ]
  },
  {
   "cell_type": "code",
   "execution_count": 16,
   "metadata": {
    "ExecuteTime": {
     "end_time": "2019-12-14T02:46:28.584263Z",
     "start_time": "2019-12-14T02:46:28.564315Z"
    }
   },
   "outputs": [],
   "source": [
    "df_guangzhou = df_51job[df_51job['city']==\"广州\"][[\"edu\", \"salary\", \"workingexp\"]]"
   ]
  },
  {
   "cell_type": "code",
   "execution_count": 17,
   "metadata": {
    "ExecuteTime": {
     "end_time": "2019-12-14T02:46:28.600251Z",
     "start_time": "2019-12-14T02:46:28.585259Z"
    }
   },
   "outputs": [
    {
     "data": {
      "text/plain": [
       "workingexp\n",
       "10年以上经验    425000.0\n",
       "1年经验        90000.0\n",
       "2年经验       108000.0\n",
       "3-4年经验     144000.0\n",
       "5-7年经验     210000.0\n",
       "8-9年经验     249000.0\n",
       "无工作经验       90000.0\n",
       "Name: salary, dtype: float64"
      ]
     },
     "execution_count": 17,
     "metadata": {},
     "output_type": "execute_result"
    }
   ],
   "source": [
    "# mean salary of bachelor degree requirement\n",
    "df_guangzhou_1 = df_guangzhou[df_guangzhou[\"edu\"]==\"本科\"]\n",
    "df_guangzhou_1.groupby(\"workingexp\")[\"salary\"].median()"
   ]
  },
  {
   "cell_type": "code",
   "execution_count": 18,
   "metadata": {
    "ExecuteTime": {
     "end_time": "2019-12-14T02:46:28.625154Z",
     "start_time": "2019-12-14T02:46:28.610193Z"
    }
   },
   "outputs": [
    {
     "data": {
      "text/plain": [
       "workingexp\n",
       "1年经验      192000.0\n",
       "2年经验      269000.0\n",
       "3-4年经验    420000.0\n",
       "无工作经验     138000.0\n",
       "Name: salary, dtype: float64"
      ]
     },
     "execution_count": 18,
     "metadata": {},
     "output_type": "execute_result"
    }
   ],
   "source": [
    "# mean salary of master degree requirement\n",
    "df_guangzhou_2 = df_guangzhou[df_guangzhou[\"edu\"]==\"硕士\"]\n",
    "df_guangzhou_2.groupby(\"workingexp\")[\"salary\"].median()"
   ]
  },
  {
   "cell_type": "markdown",
   "metadata": {},
   "source": [
    "### sum up people need by city"
   ]
  },
  {
   "cell_type": "code",
   "execution_count": 19,
   "metadata": {
    "ExecuteTime": {
     "end_time": "2019-12-14T02:46:28.703942Z",
     "start_time": "2019-12-14T02:46:28.635129Z"
    }
   },
   "outputs": [],
   "source": [
    "# sum up people need by city\n",
    "people_need_city_df = df_51job.groupby('city')['people_need']\n",
    "people_need_city = dict(**people_need_city_df.apply(sum))"
   ]
  },
  {
   "cell_type": "code",
   "execution_count": 20,
   "metadata": {
    "ExecuteTime": {
     "end_time": "2019-12-14T02:46:28.768798Z",
     "start_time": "2019-12-14T02:46:28.705937Z"
    }
   },
   "outputs": [],
   "source": [
    "# sum up people need by city with degree requirement no lower than bachelor\n",
    "people_need_city_df_high_degree = df_51job[(df_51job['edu']==\"本科\")|(df_51job['edu']==\"硕士\")|(df_51job['edu']==\"博士\")].groupby('city')['people_need']\n",
    "people_need_city_high_degree = dict(**people_need_city_df_high_degree.apply(sum))"
   ]
  },
  {
   "cell_type": "code",
   "execution_count": 21,
   "metadata": {
    "ExecuteTime": {
     "end_time": "2019-12-14T02:46:28.776747Z",
     "start_time": "2019-12-14T02:46:28.770766Z"
    }
   },
   "outputs": [],
   "source": [
    "province_set = set(['河北', '山西', '吉林', '辽宁', '黑龙江', '陕西', '甘肃', '青海', '山东', '福建', '浙江', '台湾', '河南', '湖北', '湖南', '江西', '江苏', '安徽', '广东', '海南', '四川', '贵州', '云南'])"
   ]
  },
  {
   "cell_type": "code",
   "execution_count": 22,
   "metadata": {
    "ExecuteTime": {
     "end_time": "2019-12-14T02:46:28.788716Z",
     "start_time": "2019-12-14T02:46:28.779741Z"
    }
   },
   "outputs": [],
   "source": [
    "# calculate the ratio of high degree job by city\n",
    "people_need_high_degree_ratio = {}\n",
    "for city, people_need in people_need_city.items():\n",
    "    if people_need>= 100 and city not in province_set:\n",
    "        if city in people_need_city_high_degree:\n",
    "            people_need_high_degree_ratio[city] = people_need_city_high_degree[city]/people_need\n",
    "        else:\n",
    "            people_need_high_degree_ratio[city] = 0"
   ]
  },
  {
   "cell_type": "markdown",
   "metadata": {},
   "source": [
    "## 2. Figure"
   ]
  },
  {
   "cell_type": "code",
   "execution_count": 23,
   "metadata": {
    "ExecuteTime": {
     "end_time": "2019-12-14T02:46:28.961259Z",
     "start_time": "2019-12-14T02:46:28.790710Z"
    }
   },
   "outputs": [],
   "source": [
    "import pyecharts\n",
    "from pyecharts.charts import Geo\n",
    "from pyecharts import options as opts\n",
    "from pyecharts.globals import ChartType, SymbolType\n",
    "from pyecharts.datasets import COORDINATES\n",
    "# cutoff is similarity threshold, 1 is exact same\n",
    "COORDINATES.cutoff = 0.5"
   ]
  },
  {
   "cell_type": "markdown",
   "metadata": {},
   "source": [
    "### 2.1 Main figure for high degree job ratio in China"
   ]
  },
  {
   "cell_type": "code",
   "execution_count": 24,
   "metadata": {
    "ExecuteTime": {
     "end_time": "2019-12-14T02:46:28.976215Z",
     "start_time": "2019-12-14T02:46:28.964246Z"
    }
   },
   "outputs": [
    {
     "data": {
      "text/plain": [
       "<pyecharts.charts.basic_charts.geo.Geo at 0x1ec8989af28>"
      ]
     },
     "execution_count": 24,
     "metadata": {},
     "output_type": "execute_result"
    }
   ],
   "source": [
    "geo1 = Geo(init_opts = opts.InitOpts(\n",
    "#     width=\"2000px\", height=\"1000px\"\n",
    ")) \n",
    "geo1.add_schema(maptype=\"china\")\n",
    "geo1.add(\"City ratio\",\n",
    "         [[k, float(v)*100] for k, v in people_need_high_degree_ratio.items()],\n",
    "         type_=ChartType.EFFECT_SCATTER,\n",
    "         blur_size=10,\n",
    "         point_size=10,\n",
    "        label_opts=opts.LabelOpts(is_show=False))\n",
    "geo1.set_global_opts(\n",
    "            visualmap_opts=opts.VisualMapOpts(\n",
    "                max_=50,\n",
    "                min_=0,\n",
    "                range_text=[\"High\", \"Low\"],\n",
    "                is_calculable=True,\n",
    "                range_color=[\"lightskyblue\", \"yellow\", \"red\"],\n",
    "            ),\n",
    "            title_opts=opts.TitleOpts(title=\"high degree job ratio in China\")\n",
    "            )"
   ]
  },
  {
   "cell_type": "code",
   "execution_count": 25,
   "metadata": {
    "ExecuteTime": {
     "end_time": "2019-12-14T02:46:29.063980Z",
     "start_time": "2019-12-14T02:46:28.978209Z"
    }
   },
   "outputs": [
    {
     "data": {
      "text/html": [
       "\n",
       "<script>\n",
       "    require.config({\n",
       "        paths: {\n",
       "            'echarts':'https://assets.pyecharts.org/assets/echarts.min', 'china':'https://assets.pyecharts.org/assets/maps/china'\n",
       "        }\n",
       "    });\n",
       "</script>\n",
       "\n",
       "        <div id=\"dafbf1dd45f740ee808db14bf1b33b93\" style=\"width:900px; height:500px;\"></div>\n",
       "\n",
       "<script>\n",
       "        require(['echarts', 'china'], function(echarts) {\n",
       "                var chart_dafbf1dd45f740ee808db14bf1b33b93 = echarts.init(\n",
       "                    document.getElementById('dafbf1dd45f740ee808db14bf1b33b93'), 'white', {renderer: 'canvas'});\n",
       "                var option_dafbf1dd45f740ee808db14bf1b33b93 = {\n",
       "    \"animation\": true,\n",
       "    \"animationThreshold\": 2000,\n",
       "    \"animationDuration\": 1000,\n",
       "    \"animationEasing\": \"cubicOut\",\n",
       "    \"animationDelay\": 0,\n",
       "    \"animationDurationUpdate\": 300,\n",
       "    \"animationEasingUpdate\": \"cubicOut\",\n",
       "    \"animationDelayUpdate\": 0,\n",
       "    \"color\": [\n",
       "        \"#c23531\",\n",
       "        \"#2f4554\",\n",
       "        \"#61a0a8\",\n",
       "        \"#d48265\",\n",
       "        \"#749f83\",\n",
       "        \"#ca8622\",\n",
       "        \"#bda29a\",\n",
       "        \"#6e7074\",\n",
       "        \"#546570\",\n",
       "        \"#c4ccd3\",\n",
       "        \"#f05b72\",\n",
       "        \"#ef5b9c\",\n",
       "        \"#f47920\",\n",
       "        \"#905a3d\",\n",
       "        \"#fab27b\",\n",
       "        \"#2a5caa\",\n",
       "        \"#444693\",\n",
       "        \"#726930\",\n",
       "        \"#b2d235\",\n",
       "        \"#6d8346\",\n",
       "        \"#ac6767\",\n",
       "        \"#1d953f\",\n",
       "        \"#6950a1\",\n",
       "        \"#918597\"\n",
       "    ],\n",
       "    \"series\": [\n",
       "        {\n",
       "            \"type\": \"effectScatter\",\n",
       "            \"name\": \"City ratio\",\n",
       "            \"coordinateSystem\": \"geo\",\n",
       "            \"showEffectOn\": \"render\",\n",
       "            \"rippleEffect\": {\n",
       "                \"show\": true,\n",
       "                \"brushType\": \"stroke\",\n",
       "                \"scale\": 2.5,\n",
       "                \"period\": 4\n",
       "            },\n",
       "            \"symbolSize\": 12,\n",
       "            \"data\": [\n",
       "                {\n",
       "                    \"name\": \"\\u4e09\\u4e9a\",\n",
       "                    \"value\": [\n",
       "                        109.511909,\n",
       "                        18.252847,\n",
       "                        29.01234567901235\n",
       "                    ]\n",
       "                },\n",
       "                {\n",
       "                    \"name\": \"\\u4e0a\\u6d77\",\n",
       "                    \"value\": [\n",
       "                        121.473701,\n",
       "                        31.230416,\n",
       "                        7.135305499591071\n",
       "                    ]\n",
       "                },\n",
       "                {\n",
       "                    \"name\": \"\\u4e1c\\u839e\",\n",
       "                    \"value\": [\n",
       "                        113.75,\n",
       "                        23.04,\n",
       "                        3.4863195057369816\n",
       "                    ]\n",
       "                },\n",
       "                {\n",
       "                    \"name\": \"\\u4e2d\\u5c71\",\n",
       "                    \"value\": [\n",
       "                        113.38,\n",
       "                        22.52,\n",
       "                        1.3921113689095126\n",
       "                    ]\n",
       "                },\n",
       "                {\n",
       "                    \"name\": \"\\u4e34\\u6c82\",\n",
       "                    \"value\": [\n",
       "                        118.35,\n",
       "                        35.05,\n",
       "                        8.547008547008547\n",
       "                    ]\n",
       "                },\n",
       "                {\n",
       "                    \"name\": \"\\u4e49\\u4e4c\",\n",
       "                    \"value\": [\n",
       "                        120.06,\n",
       "                        29.32,\n",
       "                        24.576271186440678\n",
       "                    ]\n",
       "                },\n",
       "                {\n",
       "                    \"name\": \"\\u4e50\\u5c71\",\n",
       "                    \"value\": [\n",
       "                        103.44,\n",
       "                        29.36,\n",
       "                        1.2121212121212122\n",
       "                    ]\n",
       "                },\n",
       "                {\n",
       "                    \"name\": \"\\u4f5b\\u5c71\",\n",
       "                    \"value\": [\n",
       "                        113.11,\n",
       "                        23.05,\n",
       "                        2.631578947368421\n",
       "                    ]\n",
       "                },\n",
       "                {\n",
       "                    \"name\": \"\\u5170\\u5dde\",\n",
       "                    \"value\": [\n",
       "                        103.73,\n",
       "                        36.03,\n",
       "                        17.5\n",
       "                    ]\n",
       "                },\n",
       "                {\n",
       "                    \"name\": \"\\u5317\\u4eac\",\n",
       "                    \"value\": [\n",
       "                        116.407526,\n",
       "                        39.90403,\n",
       "                        37.58453268597191\n",
       "                    ]\n",
       "                },\n",
       "                {\n",
       "                    \"name\": \"\\u5357\\u4eac\",\n",
       "                    \"value\": [\n",
       "                        118.78,\n",
       "                        32.04,\n",
       "                        28.882833787465938\n",
       "                    ]\n",
       "                },\n",
       "                {\n",
       "                    \"name\": \"\\u5357\\u5b81\",\n",
       "                    \"value\": [\n",
       "                        108.33,\n",
       "                        22.84,\n",
       "                        7.975460122699387\n",
       "                    ]\n",
       "                },\n",
       "                {\n",
       "                    \"name\": \"\\u5357\\u660c\",\n",
       "                    \"value\": [\n",
       "                        115.89,\n",
       "                        28.68,\n",
       "                        10.289389067524116\n",
       "                    ]\n",
       "                },\n",
       "                {\n",
       "                    \"name\": \"\\u5357\\u901a\",\n",
       "                    \"value\": [\n",
       "                        121.05,\n",
       "                        32.08,\n",
       "                        4.772234273318872\n",
       "                    ]\n",
       "                },\n",
       "                {\n",
       "                    \"name\": \"\\u53a6\\u95e8\",\n",
       "                    \"value\": [\n",
       "                        118.1,\n",
       "                        24.46,\n",
       "                        17.21698113207547\n",
       "                    ]\n",
       "                },\n",
       "                {\n",
       "                    \"name\": \"\\u53f0\\u5dde\",\n",
       "                    \"value\": [\n",
       "                        121.420757,\n",
       "                        28.656386,\n",
       "                        4.49438202247191\n",
       "                    ]\n",
       "                },\n",
       "                {\n",
       "                    \"name\": \"\\u5408\\u80a5\",\n",
       "                    \"value\": [\n",
       "                        117.27,\n",
       "                        31.86,\n",
       "                        7.53405221339387\n",
       "                    ]\n",
       "                },\n",
       "                {\n",
       "                    \"name\": \"\\u5409\\u5b89\",\n",
       "                    \"value\": [\n",
       "                        114.58,\n",
       "                        27.07,\n",
       "                        0.0\n",
       "                    ]\n",
       "                },\n",
       "                {\n",
       "                    \"name\": \"\\u547c\\u548c\\u6d69\\u7279\",\n",
       "                    \"value\": [\n",
       "                        111.65,\n",
       "                        40.82,\n",
       "                        7.6923076923076925\n",
       "                    ]\n",
       "                },\n",
       "                {\n",
       "                    \"name\": \"\\u54c8\\u5c14\\u6ee8\",\n",
       "                    \"value\": [\n",
       "                        126.63,\n",
       "                        45.75,\n",
       "                        4.967320261437909\n",
       "                    ]\n",
       "                },\n",
       "                {\n",
       "                    \"name\": \"\\u5609\\u5174\",\n",
       "                    \"value\": [\n",
       "                        120.76,\n",
       "                        30.77,\n",
       "                        15.233415233415235\n",
       "                    ]\n",
       "                },\n",
       "                {\n",
       "                    \"name\": \"\\u5927\\u8fde\",\n",
       "                    \"value\": [\n",
       "                        121.62,\n",
       "                        38.92,\n",
       "                        21.379310344827587\n",
       "                    ]\n",
       "                },\n",
       "                {\n",
       "                    \"name\": \"\\u5929\\u6d25\",\n",
       "                    \"value\": [\n",
       "                        117.200983,\n",
       "                        39.084158,\n",
       "                        42.59597806215722\n",
       "                    ]\n",
       "                },\n",
       "                {\n",
       "                    \"name\": \"\\u592a\\u539f\",\n",
       "                    \"value\": [\n",
       "                        112.53,\n",
       "                        37.87,\n",
       "                        2.168021680216802\n",
       "                    ]\n",
       "                },\n",
       "                {\n",
       "                    \"name\": \"\\u5a01\\u6d77\",\n",
       "                    \"value\": [\n",
       "                        122.1,\n",
       "                        37.5,\n",
       "                        2.973977695167286\n",
       "                    ]\n",
       "                },\n",
       "                {\n",
       "                    \"name\": \"\\u5b81\\u6ce2\",\n",
       "                    \"value\": [\n",
       "                        121.56,\n",
       "                        29.86,\n",
       "                        19.957761351636748\n",
       "                    ]\n",
       "                },\n",
       "                {\n",
       "                    \"name\": \"\\u5b9c\\u660c\",\n",
       "                    \"value\": [\n",
       "                        111.3,\n",
       "                        30.7,\n",
       "                        12.837837837837837\n",
       "                    ]\n",
       "                },\n",
       "                {\n",
       "                    \"name\": \"\\u5b9c\\u6625\",\n",
       "                    \"value\": [\n",
       "                        114.23,\n",
       "                        27.47,\n",
       "                        9.375\n",
       "                    ]\n",
       "                },\n",
       "                {\n",
       "                    \"name\": \"\\u5bbf\\u8fc1\",\n",
       "                    \"value\": [\n",
       "                        118.3,\n",
       "                        33.96,\n",
       "                        1.0299625468164793\n",
       "                    ]\n",
       "                },\n",
       "                {\n",
       "                    \"name\": \"\\u5e38\\u5dde\",\n",
       "                    \"value\": [\n",
       "                        119.95,\n",
       "                        31.79,\n",
       "                        18.245125348189415\n",
       "                    ]\n",
       "                },\n",
       "                {\n",
       "                    \"name\": \"\\u5e38\\u719f\",\n",
       "                    \"value\": [\n",
       "                        120.74,\n",
       "                        31.64,\n",
       "                        21.568627450980394\n",
       "                    ]\n",
       "                },\n",
       "                {\n",
       "                    \"name\": \"\\u5e7f\\u5dde\",\n",
       "                    \"value\": [\n",
       "                        113.23,\n",
       "                        23.16,\n",
       "                        10.349433141792204\n",
       "                    ]\n",
       "                },\n",
       "                {\n",
       "                    \"name\": \"\\u5f90\\u5dde\",\n",
       "                    \"value\": [\n",
       "                        117.2,\n",
       "                        34.26,\n",
       "                        7.964601769911504\n",
       "                    ]\n",
       "                },\n",
       "                {\n",
       "                    \"name\": \"\\u60e0\\u5dde\",\n",
       "                    \"value\": [\n",
       "                        114.4,\n",
       "                        23.09,\n",
       "                        0.8324661810613945\n",
       "                    ]\n",
       "                },\n",
       "                {\n",
       "                    \"name\": \"\\u6210\\u90fd\",\n",
       "                    \"value\": [\n",
       "                        104.06,\n",
       "                        30.67,\n",
       "                        15.583465431044994\n",
       "                    ]\n",
       "                },\n",
       "                {\n",
       "                    \"name\": \"\\u626c\\u5dde\",\n",
       "                    \"value\": [\n",
       "                        119.42,\n",
       "                        32.39,\n",
       "                        3.535353535353535\n",
       "                    ]\n",
       "                },\n",
       "                {\n",
       "                    \"name\": \"\\u65b0\\u4e61\",\n",
       "                    \"value\": [\n",
       "                        113.52,\n",
       "                        35.18,\n",
       "                        0.6756756756756757\n",
       "                    ]\n",
       "                },\n",
       "                {\n",
       "                    \"name\": \"\\u65e0\\u9521\",\n",
       "                    \"value\": [\n",
       "                        120.29,\n",
       "                        31.59,\n",
       "                        12.817851582771148\n",
       "                    ]\n",
       "                },\n",
       "                {\n",
       "                    \"name\": \"\\u6606\\u5c71\",\n",
       "                    \"value\": [\n",
       "                        120.95,\n",
       "                        31.39,\n",
       "                        7.256461232604374\n",
       "                    ]\n",
       "                },\n",
       "                {\n",
       "                    \"name\": \"\\u6606\\u660e\",\n",
       "                    \"value\": [\n",
       "                        102.73,\n",
       "                        25.04,\n",
       "                        9.24120389995761\n",
       "                    ]\n",
       "                },\n",
       "                {\n",
       "                    \"name\": \"\\u676d\\u5dde\",\n",
       "                    \"value\": [\n",
       "                        120.19,\n",
       "                        30.26,\n",
       "                        16.336898395721924\n",
       "                    ]\n",
       "                },\n",
       "                {\n",
       "                    \"name\": \"\\u6b66\\u6c49\",\n",
       "                    \"value\": [\n",
       "                        114.31,\n",
       "                        30.52,\n",
       "                        10.084133191136392\n",
       "                    ]\n",
       "                },\n",
       "                {\n",
       "                    \"name\": \"\\u6c5f\\u95e8\",\n",
       "                    \"value\": [\n",
       "                        113.06,\n",
       "                        22.61,\n",
       "                        10.15625\n",
       "                    ]\n",
       "                },\n",
       "                {\n",
       "                    \"name\": \"\\u6c88\\u9633\",\n",
       "                    \"value\": [\n",
       "                        123.38,\n",
       "                        41.8,\n",
       "                        9.826046074283028\n",
       "                    ]\n",
       "                },\n",
       "                {\n",
       "                    \"name\": \"\\u6cc9\\u5dde\",\n",
       "                    \"value\": [\n",
       "                        118.58,\n",
       "                        24.93,\n",
       "                        13.875598086124402\n",
       "                    ]\n",
       "                },\n",
       "                {\n",
       "                    \"name\": \"\\u6d1b\\u9633\",\n",
       "                    \"value\": [\n",
       "                        112.44,\n",
       "                        34.7,\n",
       "                        4.216867469879518\n",
       "                    ]\n",
       "                },\n",
       "                {\n",
       "                    \"name\": \"\\u6d4e\\u5357\",\n",
       "                    \"value\": [\n",
       "                        117,\n",
       "                        36.65,\n",
       "                        33.31500824628917\n",
       "                    ]\n",
       "                },\n",
       "                {\n",
       "                    \"name\": \"\\u6d77\\u53e3\",\n",
       "                    \"value\": [\n",
       "                        110.35,\n",
       "                        20.02,\n",
       "                        21.164021164021165\n",
       "                    ]\n",
       "                },\n",
       "                {\n",
       "                    \"name\": \"\\u6dc4\\u535a\",\n",
       "                    \"value\": [\n",
       "                        118.05,\n",
       "                        36.78,\n",
       "                        15.476190476190476\n",
       "                    ]\n",
       "                },\n",
       "                {\n",
       "                    \"name\": \"\\u6dee\\u5b89\",\n",
       "                    \"value\": [\n",
       "                        119.15,\n",
       "                        33.5,\n",
       "                        2.6744186046511627\n",
       "                    ]\n",
       "                },\n",
       "                {\n",
       "                    \"name\": \"\\u6df1\\u5733\",\n",
       "                    \"value\": [\n",
       "                        114.07,\n",
       "                        22.62,\n",
       "                        12.79748540637629\n",
       "                    ]\n",
       "                },\n",
       "                {\n",
       "                    \"name\": \"\\u6e29\\u5dde\",\n",
       "                    \"value\": [\n",
       "                        120.65,\n",
       "                        28.01,\n",
       "                        4.640371229698376\n",
       "                    ]\n",
       "                },\n",
       "                {\n",
       "                    \"name\": \"\\u70df\\u53f0\",\n",
       "                    \"value\": [\n",
       "                        121.39,\n",
       "                        37.52,\n",
       "                        9.67741935483871\n",
       "                    ]\n",
       "                },\n",
       "                {\n",
       "                    \"name\": \"\\u73e0\\u6d77\",\n",
       "                    \"value\": [\n",
       "                        113.52,\n",
       "                        22.3,\n",
       "                        5.279218797680805\n",
       "                    ]\n",
       "                },\n",
       "                {\n",
       "                    \"name\": \"\\u76d0\\u57ce\",\n",
       "                    \"value\": [\n",
       "                        120.13,\n",
       "                        33.38,\n",
       "                        8.403361344537815\n",
       "                    ]\n",
       "                },\n",
       "                {\n",
       "                    \"name\": \"\\u77f3\\u5bb6\\u5e84\",\n",
       "                    \"value\": [\n",
       "                        114.48,\n",
       "                        38.03,\n",
       "                        6.831395348837209\n",
       "                    ]\n",
       "                },\n",
       "                {\n",
       "                    \"name\": \"\\u798f\\u5dde\",\n",
       "                    \"value\": [\n",
       "                        119.3,\n",
       "                        26.08,\n",
       "                        21.097322011757022\n",
       "                    ]\n",
       "                },\n",
       "                {\n",
       "                    \"name\": \"\\u7ecd\\u5174\",\n",
       "                    \"value\": [\n",
       "                        120.58,\n",
       "                        30.01,\n",
       "                        7.738095238095238\n",
       "                    ]\n",
       "                },\n",
       "                {\n",
       "                    \"name\": \"\\u7ef5\\u9633\",\n",
       "                    \"value\": [\n",
       "                        104.73,\n",
       "                        31.48,\n",
       "                        1.2567324955116697\n",
       "                    ]\n",
       "                },\n",
       "                {\n",
       "                    \"name\": \"\\u8087\\u5e86\",\n",
       "                    \"value\": [\n",
       "                        112.44,\n",
       "                        23.05,\n",
       "                        0.0\n",
       "                    ]\n",
       "                },\n",
       "                {\n",
       "                    \"name\": \"\\u82cf\\u5dde\",\n",
       "                    \"value\": [\n",
       "                        120.62,\n",
       "                        31.32,\n",
       "                        16.90427698574338\n",
       "                    ]\n",
       "                },\n",
       "                {\n",
       "                    \"name\": \"\\u8944\\u9633\",\n",
       "                    \"value\": [\n",
       "                        112.2,\n",
       "                        32.08,\n",
       "                        0.819672131147541\n",
       "                    ]\n",
       "                },\n",
       "                {\n",
       "                    \"name\": \"\\u897f\\u5b89\",\n",
       "                    \"value\": [\n",
       "                        108.95,\n",
       "                        34.27,\n",
       "                        19.299474605954465\n",
       "                    ]\n",
       "                },\n",
       "                {\n",
       "                    \"name\": \"\\u8d35\\u9633\",\n",
       "                    \"value\": [\n",
       "                        106.71,\n",
       "                        26.57,\n",
       "                        9.75609756097561\n",
       "                    ]\n",
       "                },\n",
       "                {\n",
       "                    \"name\": \"\\u8d63\\u5dde\",\n",
       "                    \"value\": [\n",
       "                        114.56,\n",
       "                        28.52,\n",
       "                        0.0\n",
       "                    ]\n",
       "                },\n",
       "                {\n",
       "                    \"name\": \"\\u90d1\\u5dde\",\n",
       "                    \"value\": [\n",
       "                        113.65,\n",
       "                        34.76,\n",
       "                        4.029260103129872\n",
       "                    ]\n",
       "                },\n",
       "                {\n",
       "                    \"name\": \"\\u91cd\\u5e86\",\n",
       "                    \"value\": [\n",
       "                        106.551556,\n",
       "                        29.563009,\n",
       "                        18.48184818481848\n",
       "                    ]\n",
       "                },\n",
       "                {\n",
       "                    \"name\": \"\\u91d1\\u534e\",\n",
       "                    \"value\": [\n",
       "                        119.64,\n",
       "                        29.12,\n",
       "                        2.8368794326241136\n",
       "                    ]\n",
       "                },\n",
       "                {\n",
       "                    \"name\": \"\\u9547\\u6c5f\",\n",
       "                    \"value\": [\n",
       "                        119.44,\n",
       "                        32.2,\n",
       "                        14.285714285714285\n",
       "                    ]\n",
       "                },\n",
       "                {\n",
       "                    \"name\": \"\\u957f\\u6625\",\n",
       "                    \"value\": [\n",
       "                        125.35,\n",
       "                        43.88,\n",
       "                        8.49056603773585\n",
       "                    ]\n",
       "                },\n",
       "                {\n",
       "                    \"name\": \"\\u957f\\u6c99\",\n",
       "                    \"value\": [\n",
       "                        113,\n",
       "                        28.21,\n",
       "                        17.83783783783784\n",
       "                    ]\n",
       "                },\n",
       "                {\n",
       "                    \"name\": \"\\u9752\\u5c9b\",\n",
       "                    \"value\": [\n",
       "                        120.33,\n",
       "                        36.07,\n",
       "                        23.74405076679006\n",
       "                    ]\n",
       "                }\n",
       "            ],\n",
       "            \"label\": {\n",
       "                \"show\": false,\n",
       "                \"position\": \"top\",\n",
       "                \"margin\": 8\n",
       "            }\n",
       "        }\n",
       "    ],\n",
       "    \"legend\": [\n",
       "        {\n",
       "            \"data\": [\n",
       "                \"City ratio\"\n",
       "            ],\n",
       "            \"selected\": {\n",
       "                \"City ratio\": true\n",
       "            },\n",
       "            \"show\": true,\n",
       "            \"padding\": 5,\n",
       "            \"itemGap\": 10,\n",
       "            \"itemWidth\": 25,\n",
       "            \"itemHeight\": 14\n",
       "        }\n",
       "    ],\n",
       "    \"tooltip\": {\n",
       "        \"show\": true,\n",
       "        \"trigger\": \"item\",\n",
       "        \"triggerOn\": \"mousemove|click\",\n",
       "        \"axisPointer\": {\n",
       "            \"type\": \"line\"\n",
       "        },\n",
       "        \"formatter\": function (params) {        return params.name + ' : ' + params.value[2];    },\n",
       "        \"textStyle\": {\n",
       "            \"fontSize\": 14\n",
       "        },\n",
       "        \"borderWidth\": 0\n",
       "    },\n",
       "    \"title\": [\n",
       "        {\n",
       "            \"text\": \"high degree job ratio in China\"\n",
       "        }\n",
       "    ],\n",
       "    \"visualMap\": {\n",
       "        \"show\": true,\n",
       "        \"type\": \"continuous\",\n",
       "        \"min\": 0,\n",
       "        \"max\": 50,\n",
       "        \"text\": [\n",
       "            \"High\",\n",
       "            \"Low\"\n",
       "        ],\n",
       "        \"inRange\": {\n",
       "            \"color\": [\n",
       "                \"lightskyblue\",\n",
       "                \"yellow\",\n",
       "                \"red\"\n",
       "            ]\n",
       "        },\n",
       "        \"calculable\": true,\n",
       "        \"splitNumber\": 5,\n",
       "        \"orient\": \"vertical\",\n",
       "        \"showLabel\": true,\n",
       "        \"itemWidth\": 20,\n",
       "        \"itemHeight\": 140\n",
       "    },\n",
       "    \"geo\": {\n",
       "        \"map\": \"china\",\n",
       "        \"roam\": true,\n",
       "        \"emphasis\": {}\n",
       "    }\n",
       "};\n",
       "                chart_dafbf1dd45f740ee808db14bf1b33b93.setOption(option_dafbf1dd45f740ee808db14bf1b33b93);\n",
       "        });\n",
       "    </script>\n"
      ],
      "text/plain": [
       "<pyecharts.render.display.HTML at 0x1ec89189ef0>"
      ]
     },
     "execution_count": 25,
     "metadata": {},
     "output_type": "execute_result"
    }
   ],
   "source": [
    "geo1.render()\n",
    "geo1.render_notebook()"
   ]
  },
  {
   "cell_type": "markdown",
   "metadata": {
    "ExecuteTime": {
     "end_time": "2019-12-14T00:19:42.718453Z",
     "start_time": "2019-12-14T00:19:42.702463Z"
    }
   },
   "source": [
    "### 2.2 Sub-figure for Job Salary and Working Experience"
   ]
  },
  {
   "cell_type": "code",
   "execution_count": 26,
   "metadata": {
    "ExecuteTime": {
     "end_time": "2019-12-14T02:46:29.101911Z",
     "start_time": "2019-12-14T02:46:29.065977Z"
    }
   },
   "outputs": [
    {
     "data": {
      "text/html": [
       "<div>\n",
       "<style scoped>\n",
       "    .dataframe tbody tr th:only-of-type {\n",
       "        vertical-align: middle;\n",
       "    }\n",
       "\n",
       "    .dataframe tbody tr th {\n",
       "        vertical-align: top;\n",
       "    }\n",
       "\n",
       "    .dataframe thead th {\n",
       "        text-align: right;\n",
       "    }\n",
       "</style>\n",
       "<table border=\"1\" class=\"dataframe\">\n",
       "  <thead>\n",
       "    <tr style=\"text-align: right;\">\n",
       "      <th></th>\n",
       "      <th>workingexp</th>\n",
       "      <th>salary</th>\n",
       "      <th>salary_Master</th>\n",
       "      <th>index</th>\n",
       "    </tr>\n",
       "  </thead>\n",
       "  <tbody>\n",
       "    <tr>\n",
       "      <th>6</th>\n",
       "      <td>无工作经验</td>\n",
       "      <td>90000.0</td>\n",
       "      <td>NaN</td>\n",
       "      <td>0</td>\n",
       "    </tr>\n",
       "    <tr>\n",
       "      <th>1</th>\n",
       "      <td>1年经验</td>\n",
       "      <td>90000.0</td>\n",
       "      <td>269000.0</td>\n",
       "      <td>1</td>\n",
       "    </tr>\n",
       "    <tr>\n",
       "      <th>2</th>\n",
       "      <td>2年经验</td>\n",
       "      <td>108000.0</td>\n",
       "      <td>420000.0</td>\n",
       "      <td>2</td>\n",
       "    </tr>\n",
       "    <tr>\n",
       "      <th>3</th>\n",
       "      <td>3-4年经验</td>\n",
       "      <td>144000.0</td>\n",
       "      <td>138000.0</td>\n",
       "      <td>3</td>\n",
       "    </tr>\n",
       "    <tr>\n",
       "      <th>4</th>\n",
       "      <td>5-7年经验</td>\n",
       "      <td>210000.0</td>\n",
       "      <td>NaN</td>\n",
       "      <td>5</td>\n",
       "    </tr>\n",
       "    <tr>\n",
       "      <th>5</th>\n",
       "      <td>8-9年经验</td>\n",
       "      <td>249000.0</td>\n",
       "      <td>NaN</td>\n",
       "      <td>7</td>\n",
       "    </tr>\n",
       "    <tr>\n",
       "      <th>0</th>\n",
       "      <td>10年以上经验</td>\n",
       "      <td>425000.0</td>\n",
       "      <td>192000.0</td>\n",
       "      <td>10</td>\n",
       "    </tr>\n",
       "  </tbody>\n",
       "</table>\n",
       "</div>"
      ],
      "text/plain": [
       "  workingexp    salary  salary_Master  index\n",
       "6      无工作经验   90000.0            NaN      0\n",
       "1       1年经验   90000.0       269000.0      1\n",
       "2       2年经验  108000.0       420000.0      2\n",
       "3     3-4年经验  144000.0       138000.0      3\n",
       "4     5-7年经验  210000.0            NaN      5\n",
       "5     8-9年经验  249000.0            NaN      7\n",
       "0    10年以上经验  425000.0       192000.0     10"
      ]
     },
     "execution_count": 26,
     "metadata": {},
     "output_type": "execute_result"
    }
   ],
   "source": [
    "# make a new df to cululate the popularity of different company_area\n",
    "guangzhou_salary_1 = pd.pivot_table(df_guangzhou_1, values='salary', index=['workingexp'],\n",
    "                       aggfunc=np.median)\n",
    "guangzhou_salary_2 = pd.pivot_table(df_guangzhou_2, values='salary', index=['workingexp'],\n",
    "                       aggfunc=np.median)\n",
    "#set pivot table to regular table(assign the current index 'company_area' to column and \n",
    "#add a new index) \n",
    "guangzhou_salary_1 = guangzhou_salary_1.reset_index()\n",
    "guangzhou_salary_2 = guangzhou_salary_2.reset_index()\n",
    "# combine bachelor and master's salary\n",
    "guangzhou_salary_1['salary_Master'] = guangzhou_salary_2['salary']\n",
    "guangzhou_salary_1['index'] = [10,1,2,3,5,7,0]\n",
    "# sort by value\n",
    "guangzhou_salary_1= guangzhou_salary_1.sort_values(by='index')\n",
    "guangzhou_salary_1"
   ]
  },
  {
   "cell_type": "code",
   "execution_count": 27,
   "metadata": {
    "ExecuteTime": {
     "end_time": "2019-12-14T02:46:29.466554Z",
     "start_time": "2019-12-14T02:46:29.103874Z"
    }
   },
   "outputs": [
    {
     "data": {
      "text/plain": [
       "Text(0, 0.5, 'Salary (CNY/Year)')"
      ]
     },
     "execution_count": 27,
     "metadata": {},
     "output_type": "execute_result"
    },
    {
     "data": {
      "image/png": "[encoded data removed]",
      "text/plain": [
       "<Figure size 960x480 with 1 Axes>"
      ]
     },
     "metadata": {},
     "output_type": "display_data"
    }
   ],
   "source": [
    "plt.style.use('seaborn-darkgrid')\n",
    "my_dpi=96\n",
    "plt.figure(figsize=(960/my_dpi, 480/my_dpi), dpi=my_dpi)\n",
    " \n",
    "plt.plot(guangzhou_salary_1['index'], guangzhou_salary_1['salary'],\n",
    "         marker='o', markerfacecolor='orange', markersize=12, color='orange', alpha = 0.7, linewidth=4,\n",
    "        label='Bachelors')\n",
    "plt.plot(guangzhou_salary_1['index'], guangzhou_salary_1['salary_Master'],\n",
    "         marker='o', markerfacecolor='blue', markersize=12, color='skyblue', linewidth=4,\n",
    "        label='Masters')\n",
    "# Place a legend to the right of this smaller subplot.\n",
    "plt.legend(bbox_to_anchor=(1.05, 1), loc='upper left', borderaxespad=0.)\n",
    "# Add titles\n",
    "plt.title(\"City of Guangzhou - Job Salary and Working Experience by Education Level\", loc='left', fontsize=18, fontweight=0, color='black')\n",
    "plt.xlabel(\"Working Experience (Year)\")\n",
    "plt.ylabel(\"Salary (CNY/Year)\")"
   ]
  },
  {
   "cell_type": "code",
   "execution_count": 28,
   "metadata": {
    "ExecuteTime": {
     "end_time": "2019-12-14T02:46:29.511432Z",
     "start_time": "2019-12-14T02:46:29.469548Z"
    }
   },
   "outputs": [
    {
     "data": {
      "text/html": [
       "<div>\n",
       "<style scoped>\n",
       "    .dataframe tbody tr th:only-of-type {\n",
       "        vertical-align: middle;\n",
       "    }\n",
       "\n",
       "    .dataframe tbody tr th {\n",
       "        vertical-align: top;\n",
       "    }\n",
       "\n",
       "    .dataframe thead th {\n",
       "        text-align: right;\n",
       "    }\n",
       "</style>\n",
       "<table border=\"1\" class=\"dataframe\">\n",
       "  <thead>\n",
       "    <tr style=\"text-align: right;\">\n",
       "      <th></th>\n",
       "      <th>workingexp</th>\n",
       "      <th>salary</th>\n",
       "      <th>salary_Master</th>\n",
       "      <th>index</th>\n",
       "    </tr>\n",
       "  </thead>\n",
       "  <tbody>\n",
       "    <tr>\n",
       "      <th>6</th>\n",
       "      <td>无工作经验</td>\n",
       "      <td>108000.0</td>\n",
       "      <td>108000.0</td>\n",
       "      <td>0</td>\n",
       "    </tr>\n",
       "    <tr>\n",
       "      <th>1</th>\n",
       "      <td>1年经验</td>\n",
       "      <td>108000.0</td>\n",
       "      <td>150000.0</td>\n",
       "      <td>1</td>\n",
       "    </tr>\n",
       "    <tr>\n",
       "      <th>2</th>\n",
       "      <td>2年经验</td>\n",
       "      <td>138000.0</td>\n",
       "      <td>210000.0</td>\n",
       "      <td>2</td>\n",
       "    </tr>\n",
       "    <tr>\n",
       "      <th>3</th>\n",
       "      <td>3-4年经验</td>\n",
       "      <td>180000.0</td>\n",
       "      <td>275000.0</td>\n",
       "      <td>3</td>\n",
       "    </tr>\n",
       "    <tr>\n",
       "      <th>4</th>\n",
       "      <td>5-7年经验</td>\n",
       "      <td>240000.0</td>\n",
       "      <td>241500.0</td>\n",
       "      <td>5</td>\n",
       "    </tr>\n",
       "    <tr>\n",
       "      <th>5</th>\n",
       "      <td>8-9年经验</td>\n",
       "      <td>300000.0</td>\n",
       "      <td>650000.0</td>\n",
       "      <td>8</td>\n",
       "    </tr>\n",
       "    <tr>\n",
       "      <th>0</th>\n",
       "      <td>10年以上经验</td>\n",
       "      <td>390000.0</td>\n",
       "      <td>495000.0</td>\n",
       "      <td>10</td>\n",
       "    </tr>\n",
       "  </tbody>\n",
       "</table>\n",
       "</div>"
      ],
      "text/plain": [
       "  workingexp    salary  salary_Master  index\n",
       "6      无工作经验  108000.0       108000.0      0\n",
       "1       1年经验  108000.0       150000.0      1\n",
       "2       2年经验  138000.0       210000.0      2\n",
       "3     3-4年经验  180000.0       275000.0      3\n",
       "4     5-7年经验  240000.0       241500.0      5\n",
       "5     8-9年经验  300000.0       650000.0      8\n",
       "0    10年以上经验  390000.0       495000.0     10"
      ]
     },
     "execution_count": 28,
     "metadata": {},
     "output_type": "execute_result"
    }
   ],
   "source": [
    "# make a new df to cululate the popularity of different company_area\n",
    "shanghai_salary_1 = pd.pivot_table(df_shanghai_1, values='salary', index=['workingexp'],\n",
    "                       aggfunc=np.median)\n",
    "shanghai_salary_2 = pd.pivot_table(df_shanghai_2, values='salary', index=['workingexp'],\n",
    "                       aggfunc=np.median)\n",
    "#set pivot table to regular table(assign the current index 'company_area' to column and \n",
    "#add a new index) \n",
    "shanghai_salary_1 = shanghai_salary_1.reset_index()\n",
    "shanghai_salary_2 = shanghai_salary_2.reset_index()\n",
    "\n",
    "# combine bachelor and master's salary\n",
    "shanghai_salary_1['salary_Master'] = shanghai_salary_2['salary']\n",
    "shanghai_salary_1['index'] = [10,1,2,3,5,8,0]\n",
    "# sort the df for plotting \n",
    "shanghai_salary_1= shanghai_salary_1.sort_values(by='index')\n",
    "shanghai_salary_1"
   ]
  },
  {
   "cell_type": "code",
   "execution_count": 29,
   "metadata": {
    "ExecuteTime": {
     "end_time": "2019-12-14T02:46:29.843683Z",
     "start_time": "2019-12-14T02:46:29.514425Z"
    }
   },
   "outputs": [
    {
     "data": {
      "text/plain": [
       "Text(0, 0.5, 'Salary (CNY/Year)')"
      ]
     },
     "execution_count": 29,
     "metadata": {},
     "output_type": "execute_result"
    },
    {
     "data": {
      "image/png": "[encoded data removed]",
      "text/plain": [
       "<Figure size 960x480 with 1 Axes>"
      ]
     },
     "metadata": {},
     "output_type": "display_data"
    }
   ],
   "source": [
    "# plot for shanghai\n",
    "plt.style.use('seaborn-darkgrid')\n",
    "my_dpi=96\n",
    "plt.figure(figsize=(960/my_dpi, 480/my_dpi), dpi=my_dpi)\n",
    " \n",
    "plt.plot(shanghai_salary_1['index'], shanghai_salary_1['salary'],\n",
    "         marker='o', markerfacecolor='orange', markersize=12, color='orange', alpha = 0.7, linewidth=4,\n",
    "        label='Bachelors')\n",
    "plt.plot(shanghai_salary_1['index'], shanghai_salary_1['salary_Master'],\n",
    "         marker='o', markerfacecolor='blue', markersize=12, color='skyblue', linewidth=4,\n",
    "        label='Masters')\n",
    "# Place a legend to the right of this smaller subplot.\n",
    "plt.legend(bbox_to_anchor=(1.05, 1), loc='upper left', borderaxespad=0.)\n",
    "# Add titles\n",
    "plt.title(\"City of Shanghai - Job Salary and Working Experience by Education Level\", \n",
    "          loc='left', fontsize=18, fontweight=0, color='black')\n",
    "plt.xlabel(\"Working Experience (Year)\")\n",
    "plt.ylabel(\"Salary (CNY/Year)\")"
   ]
  },
  {
   "cell_type": "code",
   "execution_count": 30,
   "metadata": {
    "ExecuteTime": {
     "end_time": "2019-12-14T02:46:29.886745Z",
     "start_time": "2019-12-14T02:46:29.846107Z"
    }
   },
   "outputs": [
    {
     "data": {
      "text/html": [
       "<div>\n",
       "<style scoped>\n",
       "    .dataframe tbody tr th:only-of-type {\n",
       "        vertical-align: middle;\n",
       "    }\n",
       "\n",
       "    .dataframe tbody tr th {\n",
       "        vertical-align: top;\n",
       "    }\n",
       "\n",
       "    .dataframe thead th {\n",
       "        text-align: right;\n",
       "    }\n",
       "</style>\n",
       "<table border=\"1\" class=\"dataframe\">\n",
       "  <thead>\n",
       "    <tr style=\"text-align: right;\">\n",
       "      <th></th>\n",
       "      <th>workingexp</th>\n",
       "      <th>salary</th>\n",
       "      <th>salary_Master</th>\n",
       "      <th>index</th>\n",
       "    </tr>\n",
       "  </thead>\n",
       "  <tbody>\n",
       "    <tr>\n",
       "      <th>6</th>\n",
       "      <td>无工作经验</td>\n",
       "      <td>108000.0</td>\n",
       "      <td>NaN</td>\n",
       "      <td>0</td>\n",
       "    </tr>\n",
       "    <tr>\n",
       "      <th>1</th>\n",
       "      <td>1年经验</td>\n",
       "      <td>108000.0</td>\n",
       "      <td>270000.0</td>\n",
       "      <td>1</td>\n",
       "    </tr>\n",
       "    <tr>\n",
       "      <th>2</th>\n",
       "      <td>2年经验</td>\n",
       "      <td>126000.0</td>\n",
       "      <td>150000.0</td>\n",
       "      <td>2</td>\n",
       "    </tr>\n",
       "    <tr>\n",
       "      <th>3</th>\n",
       "      <td>3-4年经验</td>\n",
       "      <td>180000.0</td>\n",
       "      <td>210000.0</td>\n",
       "      <td>3</td>\n",
       "    </tr>\n",
       "    <tr>\n",
       "      <th>4</th>\n",
       "      <td>5-7年经验</td>\n",
       "      <td>240000.0</td>\n",
       "      <td>345000.0</td>\n",
       "      <td>5</td>\n",
       "    </tr>\n",
       "    <tr>\n",
       "      <th>5</th>\n",
       "      <td>8-9年经验</td>\n",
       "      <td>300000.0</td>\n",
       "      <td>162000.0</td>\n",
       "      <td>8</td>\n",
       "    </tr>\n",
       "    <tr>\n",
       "      <th>0</th>\n",
       "      <td>10年以上经验</td>\n",
       "      <td>270000.0</td>\n",
       "      <td>144000.0</td>\n",
       "      <td>10</td>\n",
       "    </tr>\n",
       "  </tbody>\n",
       "</table>\n",
       "</div>"
      ],
      "text/plain": [
       "  workingexp    salary  salary_Master  index\n",
       "6      无工作经验  108000.0            NaN      0\n",
       "1       1年经验  108000.0       270000.0      1\n",
       "2       2年经验  126000.0       150000.0      2\n",
       "3     3-4年经验  180000.0       210000.0      3\n",
       "4     5-7年经验  240000.0       345000.0      5\n",
       "5     8-9年经验  300000.0       162000.0      8\n",
       "0    10年以上经验  270000.0       144000.0     10"
      ]
     },
     "execution_count": 30,
     "metadata": {},
     "output_type": "execute_result"
    }
   ],
   "source": [
    "# for city beijing\n",
    "beijing_salary_1 = pd.pivot_table(df_beijing_1, values='salary', index=['workingexp'],\n",
    "                       aggfunc=np.median)\n",
    "beijing_salary_2 = pd.pivot_table(df_beijing_2, values='salary', index=['workingexp'],\n",
    "                       aggfunc=np.median)\n",
    "#set pivot table to regular table(assign the current index 'company_area' to column and \n",
    "#add a new index) \n",
    "beijing_salary_1 = beijing_salary_1.reset_index()\n",
    "beijing_salary_2 = beijing_salary_2.reset_index()\n",
    "\n",
    "# combine bachelor and master's salary\n",
    "beijing_salary_1['salary_Master'] = beijing_salary_2['salary']\n",
    "beijing_salary_1['index'] = [10,1,2,3,5,8,0]\n",
    "# sort the df for plotting \n",
    "beijing_salary_1= beijing_salary_1.sort_values(by='index')\n",
    "beijing_salary_1"
   ]
  },
  {
   "cell_type": "code",
   "execution_count": 31,
   "metadata": {
    "ExecuteTime": {
     "end_time": "2019-12-14T02:46:30.282204Z",
     "start_time": "2019-12-14T02:46:29.888712Z"
    }
   },
   "outputs": [
    {
     "data": {
      "text/plain": [
       "Text(0, 0.5, 'Salary (CNY/Year)')"
      ]
     },
     "execution_count": 31,
     "metadata": {},
     "output_type": "execute_result"
    },
    {
     "data": {
      "image/png": "[encoded data removed]",
      "text/plain": [
       "<Figure size 960x480 with 1 Axes>"
      ]
     },
     "metadata": {},
     "output_type": "display_data"
    }
   ],
   "source": [
    "# plot for beijing\n",
    "plt.style.use('seaborn-darkgrid')\n",
    "my_dpi=96\n",
    "plt.figure(figsize=(960/my_dpi, 480/my_dpi), dpi=my_dpi)\n",
    " \n",
    "plt.plot(beijing_salary_1['index'], beijing_salary_1['salary'],\n",
    "         marker='o', markerfacecolor='orange', markersize=12, color='orange', alpha = 0.7, linewidth=4,\n",
    "        label='Bachelors')\n",
    "plt.plot(beijing_salary_1['index'], beijing_salary_1['salary_Master'],\n",
    "         marker='o', markerfacecolor='blue', markersize=12, color='skyblue', linewidth=4,\n",
    "        label='Masters')\n",
    "# Place a legend to the right of this smaller subplot.\n",
    "plt.legend(bbox_to_anchor=(1.05, 1), loc='upper left', borderaxespad=0.)\n",
    "# Add titles\n",
    "plt.title(\"City of Beijing - Job Salary and Working Experience by Education Level\", \n",
    "          loc='left', fontsize=18, fontweight=0, color='black')\n",
    "plt.xlabel(\"Working Experience (Year)\")\n",
    "plt.ylabel(\"Salary (CNY/Year)\")"
   ]
  },
  {
   "cell_type": "code",
   "execution_count": null,
   "metadata": {},
   "outputs": [],
   "source": []
  },
  {
   "cell_type": "code",
   "execution_count": null,
   "metadata": {},
   "outputs": [],
   "source": []
  }
 ],
 "metadata": {
  "kernelspec": {
   "display_name": "Python 3",
   "language": "python",
   "name": "python3"
  },
  "language_info": {
   "codemirror_mode": {
    "name": "ipython",
    "version": 3
   },
   "file_extension": ".py",
   "mimetype": "text/x-python",
   "name": "python",
   "nbconvert_exporter": "python",
   "pygments_lexer": "ipython3",
   "version": "3.7.1"
  },
  "nbTranslate": {
   "displayLangs": [
    "*"
   ],
   "hotkey": "alt-t",
   "langInMainMenu": true,
   "sourceLang": "en",
   "targetLang": "fr",
   "useGoogleTranslate": true
  },
  "varInspector": {
   "cols": {
    "lenName": 16,
    "lenType": 16,
    "lenVar": 40
   },
   "kernels_config": {
    "python": {
     "delete_cmd_postfix": "",
     "delete_cmd_prefix": "del ",
     "library": "var_list.py",
     "varRefreshCmd": "print(var_dic_list())"
    },
    "r": {
     "delete_cmd_postfix": ") ",
     "delete_cmd_prefix": "rm(",
     "library": "var_list.r",
     "varRefreshCmd": "cat(var_dic_list()) "
    }
   },
   "types_to_exclude": [
    "module",
    "function",
    "builtin_function_or_method",
    "instance",
    "_Feature"
   ],
   "window_display": false
  }
 },
 "nbformat": 4,
 "nbformat_minor": 2
}
